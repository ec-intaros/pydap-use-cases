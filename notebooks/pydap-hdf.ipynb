{
 "cells": [
  {
   "cell_type": "markdown",
   "metadata": {},
   "source": [
    "# Access a HDF4 remote file using Pydap"
   ]
  },
  {
   "cell_type": "code",
   "execution_count": 1,
   "metadata": {},
   "outputs": [],
   "source": [
    "import sys\n",
    "from pydap.client import open_url"
   ]
  },
  {
   "cell_type": "markdown",
   "metadata": {},
   "source": [
    "Open a remote HDF4 file:"
   ]
  },
  {
   "cell_type": "code",
   "execution_count": 2,
   "metadata": {},
   "outputs": [],
   "source": [
    "# Open the remote file\n",
    "dataset_url = 'https://iaos.opendap.terradue.com/thredds/dodsC/AMSR2/asi_daygrid_swath/n6250/2018/dec/Arctic/asi-AMSR2-n6250-20181203-v5.4.hdf'\n",
    "dataset = open_url(dataset_url)"
   ]
  },
  {
   "cell_type": "markdown",
   "metadata": {},
   "source": [
    "List the available keys:"
   ]
  },
  {
   "cell_type": "code",
   "execution_count": 3,
   "metadata": {},
   "outputs": [
    {
     "name": "stdout",
     "output_type": "stream",
     "text": [
      "ASI_Ice_Concentration\n"
     ]
    }
   ],
   "source": [
    "keys = list(dataset.keys())\n",
    "for key in keys:\n",
    "    print(key)"
   ]
  },
  {
   "cell_type": "markdown",
   "metadata": {},
   "source": [
    "Read the *ASI_Ice_Concentration* variable:"
   ]
  },
  {
   "cell_type": "code",
   "execution_count": 4,
   "metadata": {},
   "outputs": [],
   "source": [
    "asi_ice_conc = dataset['ASI_Ice_Concentration']"
   ]
  },
  {
   "cell_type": "markdown",
   "metadata": {},
   "source": [
    "Print arrays dimensions and shape:"
   ]
  },
  {
   "cell_type": "code",
   "execution_count": 5,
   "metadata": {},
   "outputs": [
    {
     "name": "stdout",
     "output_type": "stream",
     "text": [
      "<class 'pydap.model.BaseType'>\n",
      "('fakeDim0', 'fakeDim1')\n",
      "(1792, 1216)\n"
     ]
    }
   ],
   "source": [
    "print(type(asi_ice_conc))\n",
    "print(asi_ice_conc.dimensions)\n",
    "print(asi_ice_conc.shape)"
   ]
  },
  {
   "cell_type": "markdown",
   "metadata": {},
   "source": [
    "Introspect the variable attributes; they are stored in an attribute appropriately called *attributes*:"
   ]
  },
  {
   "cell_type": "code",
   "execution_count": 6,
   "metadata": {},
   "outputs": [
    {
     "name": "stdout",
     "output_type": "stream",
     "text": [
      "{'grid_information': 'longitude-latitude grid for these data to be found at: '\n",
      "                     'https://seaice.uni-bremen.de/data/grid_coordinates/n6250/',\n",
      " 'long_name': 'ASI Ice Concentration, Version: 5.4, 20181203, res: 6.25000, '\n",
      "              'AMSR2, Region: Arctic',\n",
      " 'valid_range': [0.0, 100.0]}\n"
     ]
    }
   ],
   "source": [
    "import pprint\n",
    "pprint.pprint(asi_ice_conc.attributes)"
   ]
  },
  {
   "cell_type": "code",
   "execution_count": 7,
   "metadata": {},
   "outputs": [
    {
     "data": {
      "text/plain": [
       "array([[nan, nan, nan, ...,  0.,  0.,  0.],\n",
       "       [nan, nan, nan, ...,  0.,  0.,  0.],\n",
       "       [nan, nan, nan, ...,  0.,  0.,  0.],\n",
       "       ...,\n",
       "       [nan, nan, nan, ...,  0.,  0.,  0.],\n",
       "       [nan, nan, nan, ...,  0.,  0.,  0.],\n",
       "       [nan, nan, nan, ...,  0.,  0.,  0.]], dtype=float32)"
      ]
     },
     "execution_count": 7,
     "metadata": {},
     "output_type": "execute_result"
    }
   ],
   "source": [
    "asi_ice_conc[0:10][0:10].data"
   ]
  }
 ],
 "metadata": {
  "kernelspec": {
   "display_name": "Python [default]",
   "language": "python",
   "name": "python3"
  },
  "language_info": {
   "codemirror_mode": {
    "name": "ipython",
    "version": 3
   },
   "file_extension": ".py",
   "mimetype": "text/x-python",
   "name": "python",
   "nbconvert_exporter": "python",
   "pygments_lexer": "ipython3",
   "version": "3.5.6"
  }
 },
 "nbformat": 4,
 "nbformat_minor": 2
}
