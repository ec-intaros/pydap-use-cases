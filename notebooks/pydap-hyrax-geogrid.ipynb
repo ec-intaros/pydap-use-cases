{
 "cells": [
  {
   "cell_type": "markdown",
   "metadata": {},
   "source": [
    "# Hyrax geogrid() server side processing function "
   ]
  },
  {
   "cell_type": "markdown",
   "metadata": {},
   "source": [
    "\n",
    "The geogrid() function applies a constraint given in latitude and longitude to a DAP Grid variable. The arguments to the function are:\n",
    "\n",
    "```\n",
    "geogrid(grid variable, top, left, bottom, right[, expression ...])\n",
    "geogrid(grid variable, latitude map, longitude map, top, left, bottom, right[, expression ...])\n",
    "```\n",
    "\n",
    "The grid variable is the data to be sub-sampled and must be a Grid. The optional latitude and longitude maps must be Maps in the named Grid and specifying these overrides the geogrid heuristics for choosing the lat/lon maps. The Top, left, bottom, right are the latitude and longitude coordinates of the northwesterm and southeastern corners of the selection box. The expressions consist of one or more quoted relational expressions. See grid() for more information about the expressions.\n",
    "\n",
    "The function will always return a single Grid variable whose values completely cover the given region, although there may be cases when some additional data are also returned. If the longitude values 'wrap around' the right edge of the data, then the function will make two requests and return those joined together as a single Grid. If the data are stored with the southern latitudes at the top of the array, the return result will be flipped so that the northern latitudes are at the top. If the Longitude values are offset, the function will correct for that, as well.\n",
    "\n",
    "Version 1.2\n",
    "\n",
    "* [Documentation](https://docs.opendap.org/index.php/Server_Side_Processing_Functions#geogrid.28.29) \n",
    "* [Source code](https://github.com/OPENDAP/bes/blob/master/functions/GeoGridFunction.cc#L86)"
   ]
  },
  {
   "cell_type": "code",
   "execution_count": 39,
   "metadata": {},
   "outputs": [],
   "source": [
    "from pydap.client import open_url\n",
    "import requests"
   ]
  },
  {
   "cell_type": "markdown",
   "metadata": {},
   "source": [
    "## Nominal test"
   ]
  },
  {
   "cell_type": "markdown",
   "metadata": {},
   "source": [
    "Using the example https://www.pydap.org/en/latest/client.html#calling-server-side-functions"
   ]
  },
  {
   "cell_type": "code",
   "execution_count": 71,
   "metadata": {},
   "outputs": [],
   "source": [
    "url = 'https://hyrax.terradue.com/opendap/data/sample/nc/coads_climatology.nc'"
   ]
  },
  {
   "cell_type": "code",
   "execution_count": 73,
   "metadata": {},
   "outputs": [
    {
     "name": "stdout",
     "output_type": "stream",
     "text": [
      "Dataset {\n",
      "    Float64 COADSX[COADSX = 180];\n",
      "    Float64 COADSY[COADSY = 90];\n",
      "    Float64 TIME[TIME = 12];\n",
      "    Grid {\n",
      "      Array:\n",
      "        Float32 SST[TIME = 12][COADSY = 90][COADSX = 180];\n",
      "      Maps:\n",
      "        Float64 TIME[TIME = 12];\n",
      "        Float64 COADSY[COADSY = 90];\n",
      "        Float64 COADSX[COADSX = 180];\n",
      "    } SST;\n",
      "    Grid {\n",
      "      Array:\n",
      "        Float32 AIRT[TIME = 12][COADSY = 90][COADSX = 180];\n",
      "      Maps:\n",
      "        Float64 TIME[TIME = 12];\n",
      "        Float64 COADSY[COADSY = 90];\n",
      "        Float64 COADSX[COADSX = 180];\n",
      "    } AIRT;\n",
      "    Grid {\n",
      "      Array:\n",
      "        Float32 UWND[TIME = 12][COADSY = 90][COADSX = 180];\n",
      "      Maps:\n",
      "        Float64 TIME[TIME = 12];\n",
      "        Float64 COADSY[COADSY = 90];\n",
      "        Float64 COADSX[COADSX = 180];\n",
      "    } UWND;\n",
      "    Grid {\n",
      "      Array:\n",
      "        Float32 VWND[TIME = 12][COADSY = 90][COADSX = 180];\n",
      "      Maps:\n",
      "        Float64 TIME[TIME = 12];\n",
      "        Float64 COADSY[COADSY = 90];\n",
      "        Float64 COADSX[COADSX = 180];\n",
      "    } VWND;\n",
      "} coads_climatology.nc;\n",
      "\n"
     ]
    }
   ],
   "source": [
    "r = requests.get(url + '.dds')\n",
    "print(r.text)"
   ]
  },
  {
   "cell_type": "code",
   "execution_count": 42,
   "metadata": {},
   "outputs": [],
   "source": [
    "coads_climatology = open_url(url)"
   ]
  },
  {
   "cell_type": "code",
   "execution_count": 43,
   "metadata": {},
   "outputs": [
    {
     "data": {
      "text/plain": [
       "(12, 90, 180)"
      ]
     },
     "execution_count": 43,
     "metadata": {},
     "output_type": "execute_result"
    }
   ],
   "source": [
    "coads_climatology.SST.shape"
   ]
  },
  {
   "cell_type": "code",
   "execution_count": 44,
   "metadata": {},
   "outputs": [],
   "source": [
    "coads_climatology_sst = coads_climatology.functions.geogrid(coads_climatology.SST, 10, 20, -10, 60)"
   ]
  },
  {
   "cell_type": "code",
   "execution_count": 45,
   "metadata": {},
   "outputs": [
    {
     "data": {
      "text/plain": [
       "(12, 12, 21)"
      ]
     },
     "execution_count": 45,
     "metadata": {},
     "output_type": "execute_result"
    }
   ],
   "source": [
    "coads_climatology_sst.SST.shape"
   ]
  },
  {
   "cell_type": "code",
   "execution_count": 46,
   "metadata": {},
   "outputs": [
    {
     "data": {
      "text/plain": [
       "<BaseType with data array([ 11.,   9.,   7.,   5.,   3.,   1.,  -1.,  -3.,  -5.,  -7.,  -9.,\n",
       "       -11.])>"
      ]
     },
     "execution_count": 46,
     "metadata": {},
     "output_type": "execute_result"
    }
   ],
   "source": [
    "coads_climatology_sst.SST.COADSY[:]"
   ]
  },
  {
   "cell_type": "code",
   "execution_count": 47,
   "metadata": {},
   "outputs": [
    {
     "data": {
      "text/plain": [
       "<BaseType with data array([21., 23., 25., 27., 29., 31., 33., 35., 37., 39., 41., 43., 45.,\n",
       "       47., 49., 51., 53., 55., 57., 59., 61.])>"
      ]
     },
     "execution_count": 47,
     "metadata": {},
     "output_type": "execute_result"
    }
   ],
   "source": [
    "coads_climatology_sst.SST.COADSX[:]"
   ]
  },
  {
   "cell_type": "code",
   "execution_count": 69,
   "metadata": {},
   "outputs": [
    {
     "data": {
      "text/plain": [
       "<BaseType with data array([ 21.,  23.,  25.,  27.,  29.,  31.,  33.,  35.,  37.,  39.,  41.,\n",
       "        43.,  45.,  47.,  49.,  51.,  53.,  55.,  57.,  59.,  61.,  63.,\n",
       "        65.,  67.,  69.,  71.,  73.,  75.,  77.,  79.,  81.,  83.,  85.,\n",
       "        87.,  89.,  91.,  93.,  95.,  97.,  99., 101., 103., 105., 107.,\n",
       "       109., 111., 113., 115., 117., 119., 121., 123., 125., 127., 129.,\n",
       "       131., 133., 135., 137., 139., 141., 143., 145., 147., 149., 151.,\n",
       "       153., 155., 157., 159., 161., 163., 165., 167., 169., 171., 173.,\n",
       "       175., 177., 179., 181., 183., 185., 187., 189., 191., 193., 195.,\n",
       "       197., 199., 201., 203., 205., 207., 209., 211., 213., 215., 217.,\n",
       "       219., 221., 223., 225., 227., 229., 231., 233., 235., 237., 239.,\n",
       "       241., 243., 245., 247., 249., 251., 253., 255., 257., 259., 261.,\n",
       "       263., 265., 267., 269., 271., 273., 275., 277., 279., 281., 283.,\n",
       "       285., 287., 289., 291., 293., 295., 297., 299., 301., 303., 305.,\n",
       "       307., 309., 311., 313., 315., 317., 319., 321., 323., 325., 327.,\n",
       "       329., 331., 333., 335., 337., 339., 341., 343., 345., 347., 349.,\n",
       "       351., 353., 355., 357., 359., 361., 363., 365., 367., 369., 371.,\n",
       "       373., 375., 377., 379.])>"
      ]
     },
     "execution_count": 69,
     "metadata": {},
     "output_type": "execute_result"
    }
   ],
   "source": [
    "coads_climatology.COADSX[:]"
   ]
  },
  {
   "cell_type": "markdown",
   "metadata": {},
   "source": [
    "# Sea Ice Concentration product test"
   ]
  },
  {
   "cell_type": "code",
   "execution_count": 49,
   "metadata": {},
   "outputs": [],
   "source": [
    "url = 'https://hyrax.terradue.com/opendap/data/amsr2/n6250/netcdf/2019/asi-AMSR2-n6250-20190101-v5.4.nc'"
   ]
  },
  {
   "cell_type": "code",
   "execution_count": 50,
   "metadata": {},
   "outputs": [
    {
     "name": "stdout",
     "output_type": "stream",
     "text": [
      "Dataset {\n",
      "    String polar_stereographic;\n",
      "    Float64 x[x = 1216];\n",
      "    Float64 y[y = 1792];\n",
      "    Grid {\n",
      "      Array:\n",
      "        Float32 z[y = 1792][x = 1216];\n",
      "      Maps:\n",
      "        Float64 y[y = 1792];\n",
      "        Float64 x[x = 1216];\n",
      "    } z;\n",
      "} asi-AMSR2-n6250-20190101-v5.4.nc;\n",
      "\n"
     ]
    }
   ],
   "source": [
    "r = requests.get(url + '.dds')\n",
    "print(r.text)"
   ]
  },
  {
   "cell_type": "code",
   "execution_count": 51,
   "metadata": {},
   "outputs": [
    {
     "name": "stdout",
     "output_type": "stream",
     "text": [
      "Attributes {\n",
      "    polar_stereographic {\n",
      "        String grid_mapping_name \"polar_stereographic\";\n",
      "        Float64 straight_vertical_longitude_from_pole -45.00000000000000;\n",
      "        Float64 false_easting 0.000000000000000;\n",
      "        Float64 false_northing 0.000000000000000;\n",
      "        Float64 latitude_of_projection_origin 90.00000000000000;\n",
      "        Float64 standard_parallel 70.00000000000000;\n",
      "        String long_name \"CRS definition\";\n",
      "        Float64 longitude_of_prime_meridian 0.000000000000000;\n",
      "        Float64 semi_major_axis 6378273.000000000;\n",
      "        Float64 inverse_flattening 298.2794111230640;\n",
      "        String spatial_ref \"PROJCS[\\\"NSIDC Sea Ice Polar Stereographic North\\\",GEOGCS[\\\"Unspecified datum based upon the Hughes 1980 ellipsoid\\\",DATUM[\\\"Not_specified_based_on_Hughes_1980_ellipsoid\\\",SPHEROID[\\\"Hughes 1980\\\",6378273,298.279411123064,AUTHORITY[\\\"EPSG\\\",\\\"7058\\\"]],AUTHORITY[\\\"EPSG\\\",\\\"6054\\\"]],PRIMEM[\\\"Greenwich\\\",0,AUTHORITY[\\\"EPSG\\\",\\\"8901\\\"]],UNIT[\\\"degree\\\",0.0174532925199433,AUTHORITY[\\\"EPSG\\\",\\\"9122\\\"]],AUTHORITY[\\\"EPSG\\\",\\\"4054\\\"]],PROJECTION[\\\"Polar_Stereographic\\\"],PARAMETER[\\\"latitude_of_origin\\\",70],PARAMETER[\\\"central_meridian\\\",-45],PARAMETER[\\\"scale_factor\\\",1],PARAMETER[\\\"false_easting\\\",0],PARAMETER[\\\"false_northing\\\",0],UNIT[\\\"metre\\\",1,AUTHORITY[\\\"EPSG\\\",\\\"9001\\\"]],AXIS[\\\"X\\\",EAST],AXIS[\\\"Y\\\",NORTH],AUTHORITY[\\\"EPSG\\\",\\\"3411\\\"]]\";\n",
      "        String GeoTransform \"-3850000 6250 0 5850000 0 -6250 \";\n",
      "        Int32 string_length 1;\n",
      "    }\n",
      "    x {\n",
      "        String standard_name \"projection_x_coordinate\";\n",
      "        String long_name \"x coordinate of projection\";\n",
      "        String units \"m\";\n",
      "    }\n",
      "    y {\n",
      "        String standard_name \"projection_y_coordinate\";\n",
      "        String long_name \"y coordinate of projection\";\n",
      "        String units \"m\";\n",
      "    }\n",
      "    z {\n",
      "        String long_name \"z\";\n",
      "        Float32 _FillValue NaN;\n",
      "        Int32 actual_range 0, 100;\n",
      "        String grid_mapping \"polar_stereographic\";\n",
      "    }\n",
      "    NC_GLOBAL {\n",
      "        String author \"University of Bremen, Gunnar Spreen [gunnar.spreen@uni-bremen.de], Christian Melsheimer [melsheim@uni-bremen.de]\";\n",
      "        String Conventions \"CF-1.5\";\n",
      "        String GMT_version \"5.2.1 (r15220) [64-bit] [MP]\";\n",
      "        String history \"Mon Jan 21 19:42:34 2019: GDAL CreateCopy( /ssmi/www/htdocs/data/amsr2/asi_daygrid_swath/n6250/netcdf/2019/asi-AMSR2-n6250-20190101-v5.4.nc, ... )\\012grdmath ../2019/jan/Arctic/asi-AMSR2-n6250-20190101-v5.4.hdf FLIPUD = tmp1.nc\";\n",
      "        String info \"AMSR2 sea ice concentration based on the ASI algorithm (Spreen et al., 2008).\";\n",
      "        String title \"Produced by grdmath\";\n",
      "        String GDAL \"GDAL 2.1.3, released 2017/20/01\";\n",
      "    }\n",
      "}\n",
      "\n"
     ]
    }
   ],
   "source": [
    "r = requests.get(url + '.das')\n",
    "print(r.text)"
   ]
  },
  {
   "cell_type": "code",
   "execution_count": 52,
   "metadata": {},
   "outputs": [],
   "source": [
    "amsr2 = open_url(url)"
   ]
  },
  {
   "cell_type": "code",
   "execution_count": 53,
   "metadata": {},
   "outputs": [
    {
     "data": {
      "text/plain": [
       "<DatasetType with children 'polar_stereographic', 'x', 'y', 'z'>"
      ]
     },
     "execution_count": 53,
     "metadata": {},
     "output_type": "execute_result"
    }
   ],
   "source": [
    "amsr2"
   ]
  },
  {
   "cell_type": "code",
   "execution_count": 54,
   "metadata": {},
   "outputs": [
    {
     "data": {
      "text/plain": [
       "(1792, 1216)"
      ]
     },
     "execution_count": 54,
     "metadata": {},
     "output_type": "execute_result"
    }
   ],
   "source": [
    "amsr2.z.shape"
   ]
  },
  {
   "cell_type": "code",
   "execution_count": 55,
   "metadata": {},
   "outputs": [],
   "source": [
    "amsr2_z = amsr2.functions.geogrid(amsr2.z, amsr2.y, amsr2.x, 10, 20, -10, 60)"
   ]
  },
  {
   "cell_type": "code",
   "execution_count": 56,
   "metadata": {},
   "outputs": [
    {
     "ename": "HTTPError",
     "evalue": "500 Internal Server Error\nError { \r\n    code = 500;\r\n    message = \"libdap error transmitting DataDDS: The grid 'z' does not have identifiable latitude/longitude map vectors.\";\r\n}\r\n",
     "output_type": "error",
     "traceback": [
      "\u001b[0;31m---------------------------------------------------------------------------\u001b[0m",
      "\u001b[0;31mHTTPError\u001b[0m                                 Traceback (most recent call last)",
      "\u001b[0;32m<ipython-input-56-ce81c12c4fb7>\u001b[0m in \u001b[0;36m<module>\u001b[0;34m\u001b[0m\n\u001b[0;32m----> 1\u001b[0;31m \u001b[0mamsr2_z\u001b[0m\u001b[0;34m.\u001b[0m\u001b[0mz\u001b[0m\u001b[0;34m\u001b[0m\u001b[0;34m\u001b[0m\u001b[0m\n\u001b[0m",
      "\u001b[0;32m/workspace/.conda/envs/pydap/lib/python3.7/site-packages/pydap/client.py\u001b[0m in \u001b[0;36m__getattr__\u001b[0;34m(self, name)\u001b[0m\n\u001b[1;32m    192\u001b[0m \u001b[0;34m\u001b[0m\u001b[0m\n\u001b[1;32m    193\u001b[0m     \u001b[0;32mdef\u001b[0m \u001b[0m__getattr__\u001b[0m\u001b[0;34m(\u001b[0m\u001b[0mself\u001b[0m\u001b[0;34m,\u001b[0m \u001b[0mname\u001b[0m\u001b[0;34m)\u001b[0m\u001b[0;34m:\u001b[0m\u001b[0;34m\u001b[0m\u001b[0;34m\u001b[0m\u001b[0m\n\u001b[0;32m--> 194\u001b[0;31m         \u001b[0;32mreturn\u001b[0m \u001b[0mself\u001b[0m\u001b[0;34m[\u001b[0m\u001b[0mname\u001b[0m\u001b[0;34m]\u001b[0m\u001b[0;34m\u001b[0m\u001b[0;34m\u001b[0m\u001b[0m\n\u001b[0m",
      "\u001b[0;32m/workspace/.conda/envs/pydap/lib/python3.7/site-packages/pydap/client.py\u001b[0m in \u001b[0;36m__getitem__\u001b[0;34m(self, key)\u001b[0m\n\u001b[1;32m    188\u001b[0m         \u001b[0;32mif\u001b[0m \u001b[0mself\u001b[0m\u001b[0;34m.\u001b[0m\u001b[0mdataset\u001b[0m \u001b[0;32mis\u001b[0m \u001b[0;32mNone\u001b[0m\u001b[0;34m:\u001b[0m\u001b[0;34m\u001b[0m\u001b[0;34m\u001b[0m\u001b[0m\n\u001b[1;32m    189\u001b[0m             self.dataset = open_dods(self.url, True, self.application,\n\u001b[0;32m--> 190\u001b[0;31m                                      self.session)\n\u001b[0m\u001b[1;32m    191\u001b[0m         \u001b[0;32mreturn\u001b[0m \u001b[0mself\u001b[0m\u001b[0;34m.\u001b[0m\u001b[0mdataset\u001b[0m\u001b[0;34m[\u001b[0m\u001b[0mkey\u001b[0m\u001b[0;34m]\u001b[0m\u001b[0;34m\u001b[0m\u001b[0;34m\u001b[0m\u001b[0m\n\u001b[1;32m    192\u001b[0m \u001b[0;34m\u001b[0m\u001b[0m\n",
      "\u001b[0;32m/workspace/.conda/envs/pydap/lib/python3.7/site-packages/pydap/client.py\u001b[0m in \u001b[0;36mopen_dods\u001b[0;34m(url, metadata, application, session, timeout)\u001b[0m\n\u001b[1;32m    111\u001b[0m     \u001b[0;34m\"\"\"Open a `.dods` response directly, returning a dataset.\"\"\"\u001b[0m\u001b[0;34m\u001b[0m\u001b[0;34m\u001b[0m\u001b[0m\n\u001b[1;32m    112\u001b[0m     \u001b[0mr\u001b[0m \u001b[0;34m=\u001b[0m \u001b[0mGET\u001b[0m\u001b[0;34m(\u001b[0m\u001b[0murl\u001b[0m\u001b[0;34m,\u001b[0m \u001b[0mapplication\u001b[0m\u001b[0;34m,\u001b[0m \u001b[0msession\u001b[0m\u001b[0;34m,\u001b[0m \u001b[0mtimeout\u001b[0m\u001b[0;34m=\u001b[0m\u001b[0mtimeout\u001b[0m\u001b[0;34m)\u001b[0m\u001b[0;34m\u001b[0m\u001b[0;34m\u001b[0m\u001b[0m\n\u001b[0;32m--> 113\u001b[0;31m     \u001b[0mraise_for_status\u001b[0m\u001b[0;34m(\u001b[0m\u001b[0mr\u001b[0m\u001b[0;34m)\u001b[0m\u001b[0;34m\u001b[0m\u001b[0;34m\u001b[0m\u001b[0m\n\u001b[0m\u001b[1;32m    114\u001b[0m \u001b[0;34m\u001b[0m\u001b[0m\n\u001b[1;32m    115\u001b[0m     \u001b[0mdds\u001b[0m\u001b[0;34m,\u001b[0m \u001b[0mdata\u001b[0m \u001b[0;34m=\u001b[0m \u001b[0mr\u001b[0m\u001b[0;34m.\u001b[0m\u001b[0mbody\u001b[0m\u001b[0;34m.\u001b[0m\u001b[0msplit\u001b[0m\u001b[0;34m(\u001b[0m\u001b[0;34mb'\\nData:\\n'\u001b[0m\u001b[0;34m,\u001b[0m \u001b[0;36m1\u001b[0m\u001b[0;34m)\u001b[0m\u001b[0;34m\u001b[0m\u001b[0;34m\u001b[0m\u001b[0m\n",
      "\u001b[0;32m/workspace/.conda/envs/pydap/lib/python3.7/site-packages/pydap/net.py\u001b[0m in \u001b[0;36mraise_for_status\u001b[0;34m(response)\u001b[0m\n\u001b[1;32m     34\u001b[0m             \u001b[0mdetail\u001b[0m\u001b[0;34m=\u001b[0m\u001b[0mresponse\u001b[0m\u001b[0;34m.\u001b[0m\u001b[0mstatus\u001b[0m\u001b[0;34m+\u001b[0m\u001b[0;34m'\\n'\u001b[0m\u001b[0;34m+\u001b[0m\u001b[0mresponse\u001b[0m\u001b[0;34m.\u001b[0m\u001b[0mtext\u001b[0m\u001b[0;34m,\u001b[0m\u001b[0;34m\u001b[0m\u001b[0;34m\u001b[0m\u001b[0m\n\u001b[1;32m     35\u001b[0m             \u001b[0mheaders\u001b[0m\u001b[0;34m=\u001b[0m\u001b[0mresponse\u001b[0m\u001b[0;34m.\u001b[0m\u001b[0mheaders\u001b[0m\u001b[0;34m,\u001b[0m\u001b[0;34m\u001b[0m\u001b[0;34m\u001b[0m\u001b[0m\n\u001b[0;32m---> 36\u001b[0;31m             \u001b[0mcomment\u001b[0m\u001b[0;34m=\u001b[0m\u001b[0mresponse\u001b[0m\u001b[0;34m.\u001b[0m\u001b[0mbody\u001b[0m\u001b[0;34m\u001b[0m\u001b[0;34m\u001b[0m\u001b[0m\n\u001b[0m\u001b[1;32m     37\u001b[0m         )\n\u001b[1;32m     38\u001b[0m \u001b[0;34m\u001b[0m\u001b[0m\n",
      "\u001b[0;31mHTTPError\u001b[0m: 500 Internal Server Error\nError { \r\n    code = 500;\r\n    message = \"libdap error transmitting DataDDS: The grid 'z' does not have identifiable latitude/longitude map vectors.\";\r\n}\r\n"
     ]
    }
   ],
   "source": [
    "amsr2_z.z"
   ]
  },
  {
   "cell_type": "markdown",
   "metadata": {},
   "source": [
    "*The z Grid variable of the amsr2 product seems not having **\"identifiable latitude/longitude map vectors.\"***"
   ]
  },
  {
   "cell_type": "code",
   "execution_count": 59,
   "metadata": {},
   "outputs": [
    {
     "data": {
      "text/plain": [
       "<BaseType with data array([-3846875., -3840625., -3834375., ...,  3734375.,  3740625.,\n",
       "        3746875.])>"
      ]
     },
     "execution_count": 59,
     "metadata": {},
     "output_type": "execute_result"
    }
   ],
   "source": [
    "amsr2.z.x[:]"
   ]
  },
  {
   "cell_type": "markdown",
   "metadata": {},
   "source": [
    "# Sea Ice Thickness product test"
   ]
  },
  {
   "cell_type": "code",
   "execution_count": 18,
   "metadata": {},
   "outputs": [],
   "source": [
    "url = 'https://hyrax.terradue.com/opendap/data/smos_smap/netCDF/north/2018/20180419_north_mix_sit_v100.nc'"
   ]
  },
  {
   "cell_type": "code",
   "execution_count": 19,
   "metadata": {},
   "outputs": [
    {
     "name": "stdout",
     "output_type": "stream",
     "text": [
      "Dataset {\n",
      "    Float32 smos_thickness[X = 896][Y = 608];\n",
      "    Float32 smos_thickness_unc[X = 896][Y = 608];\n",
      "    Float32 smap_thickness[X = 896][Y = 608];\n",
      "    Float32 smap_thickness_unc[X = 896][Y = 608];\n",
      "    Float32 combined_thickness[X = 896][Y = 608];\n",
      "    Float32 combined_thickness_unc[X = 896][Y = 608];\n",
      "    Int16 flags[X = 896][Y = 608];\n",
      "} 20180419_north_mix_sit_v100.nc;\n",
      "\n"
     ]
    }
   ],
   "source": [
    "r = requests.get(url + '.dds')\n",
    "print(r.text)"
   ]
  },
  {
   "cell_type": "code",
   "execution_count": 20,
   "metadata": {},
   "outputs": [],
   "source": [
    "smos_smap = open_url(url)"
   ]
  },
  {
   "cell_type": "code",
   "execution_count": 21,
   "metadata": {},
   "outputs": [
    {
     "data": {
      "text/plain": [
       "<DatasetType with children 'smos_thickness', 'smos_thickness_unc', 'smap_thickness', 'smap_thickness_unc', 'combined_thickness', 'combined_thickness_unc', 'flags'>"
      ]
     },
     "execution_count": 21,
     "metadata": {},
     "output_type": "execute_result"
    }
   ],
   "source": [
    "smos_smap"
   ]
  },
  {
   "cell_type": "markdown",
   "metadata": {},
   "source": [
    "*smos_smap dataset does not contain a DAP grid variable.* **Test stops here.**"
   ]
  }
 ],
 "metadata": {
  "kernelspec": {
   "display_name": "Python [conda env:pydap]",
   "language": "python",
   "name": "conda-env-pydap-py"
  },
  "language_info": {
   "codemirror_mode": {
    "name": "ipython",
    "version": 3
   },
   "file_extension": ".py",
   "mimetype": "text/x-python",
   "name": "python",
   "nbconvert_exporter": "python",
   "pygments_lexer": "ipython3",
   "version": "3.7.3"
  }
 },
 "nbformat": 4,
 "nbformat_minor": 2
}
