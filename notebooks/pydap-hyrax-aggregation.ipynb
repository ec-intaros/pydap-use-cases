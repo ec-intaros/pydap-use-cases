{
 "cells": [
  {
   "cell_type": "markdown",
   "metadata": {},
   "source": [
    "# Hyrax Dynamic Aggregation function via NcML"
   ]
  },
  {
   "cell_type": "markdown",
   "metadata": {},
   "source": [
    "The NcML module can be used to aggregate multiple datasets into one virtual dataset.\n",
    "Hyrax currently support three of the NcML aggregations:\n",
    "* union\n",
    "* joinNew\n",
    "* joinExisiting\n",
    "\n",
    "In this example, we leverage the *joinNew Aggregation* which joins existing datasets along a new outer Array dimension. Essentially, it adds a new index to the existing variable which points into the values in each member dataset. One useful example of this aggregation is for joining multiple samples of data from different times into one virtual dataset containing all the times.\n",
    "\n",
    "Reference https://docs.opendap.org/index.php?title=Dynamic_Aggregation_Tutorial"
   ]
  },
  {
   "cell_type": "code",
   "execution_count": 1,
   "metadata": {},
   "outputs": [],
   "source": [
    "from pydap.client import open_url\n",
    "import requests"
   ]
  },
  {
   "cell_type": "markdown",
   "metadata": {},
   "source": [
    "## Sea Ice Concentration products aggregation example"
   ]
  },
  {
   "cell_type": "markdown",
   "metadata": {},
   "source": [
    "### Single product"
   ]
  },
  {
   "cell_type": "markdown",
   "metadata": {},
   "source": [
    "#### OpenDAP"
   ]
  },
  {
   "cell_type": "code",
   "execution_count": 2,
   "metadata": {},
   "outputs": [
    {
     "name": "stdout",
     "output_type": "stream",
     "text": [
      "Dataset {\n",
      "    String polar_stereographic;\n",
      "    Float64 x[x = 1216];\n",
      "    Float64 y[y = 1792];\n",
      "    Grid {\n",
      "      Array:\n",
      "        Float32 z[y = 1792][x = 1216];\n",
      "      Maps:\n",
      "        Float64 y[y = 1792];\n",
      "        Float64 x[x = 1216];\n",
      "    } z;\n",
      "} asi-AMSR2-n6250-20190101-v5.4.nc;\n",
      "\n"
     ]
    }
   ],
   "source": [
    "url = 'https://hyrax.terradue.com/opendap/data/amsr2/n6250/netcdf/2019/asi-AMSR2-n6250-20190101-v5.4.nc'\n",
    "r = requests.get(url + '.dds')\n",
    "print(r.text)"
   ]
  },
  {
   "cell_type": "markdown",
   "metadata": {},
   "source": [
    "### Time series"
   ]
  },
  {
   "cell_type": "markdown",
   "metadata": {},
   "source": [
    "#### NcML\n",
    "\n",
    "```\n",
    "<?xml version=\"1.0\" encoding=\"UTF-8\"?>\n",
    "<!-- This test and data is taken from the aggregation tutorial page at\n",
    "http://www.unidata.ucar.edu/software/thredds/current/netcdf-java/ncml/Aggregation.html -->\n",
    "<netcdf title=\"joinNew aggregation using the scan element and dateFormatMark\">\n",
    "\n",
    "  <aggregation type=\"joinNew\" dimName=\"time\">\n",
    "    <variableAgg name=\"x\"/>\n",
    "    <variableAgg name=\"y\"/>\n",
    "    <variableAgg name=\"z\"/>\n",
    "    <scan location=\"data/amsr2/n6250/netcdf\"\n",
    "          suffix=\".nc\"\n",
    "          subdirs=\"true\"\n",
    "          regExp=\"^.*/asi-AMSR2-n6250-[^/]*\"\n",
    "          dateFormatMark=\"asi-AMSR2-n6250-#yyyyMMdd\"\n",
    "          />\n",
    "  </aggregation>\n",
    "\n",
    "<!-- example: asi-AMSR2-n6250-20120702-v5.4.nc -->\n",
    "\n",
    "</netcdf>\n",
    "```"
   ]
  },
  {
   "cell_type": "markdown",
   "metadata": {},
   "source": [
    "#### OpenDAP"
   ]
  },
  {
   "cell_type": "code",
   "execution_count": 3,
   "metadata": {},
   "outputs": [
    {
     "name": "stdout",
     "output_type": "stream",
     "text": [
      "Dataset {\n",
      "    String polar_stereographic;\n",
      "    Float64 x[time = 2478][x = 1216];\n",
      "    Float64 y[time = 2478][y = 1792];\n",
      "    String time[time = 2478];\n",
      "    Grid {\n",
      "      Array:\n",
      "        Float32 z[time = 2478][y = 1792][x = 1216];\n",
      "      Maps:\n",
      "        String time[time = 2478];\n",
      "        Float64 y[y = 1792];\n",
      "        Float64 x[x = 1216];\n",
      "    } z;\n",
      "} amsr2.ncml;\n",
      "\n"
     ]
    }
   ],
   "source": [
    "url = 'https://hyrax.terradue.com/opendap/data/ts/amsr2.ncml'\n",
    "r = requests.get(url + '.dds')\n",
    "print(r.text)"
   ]
  },
  {
   "cell_type": "code",
   "execution_count": 5,
   "metadata": {},
   "outputs": [
    {
     "name": "stdout",
     "output_type": "stream",
     "text": [
      "polar_stereographic\n",
      "x\n",
      "time\n",
      "y\n",
      "z\n"
     ]
    }
   ],
   "source": [
    "sic = open_url(url)\n",
    "keys = list(sic.keys())\n",
    "for key in keys:\n",
    "    print(key)"
   ]
  },
  {
   "cell_type": "code",
   "execution_count": 7,
   "metadata": {},
   "outputs": [
    {
     "data": {
      "text/plain": [
       "array(['2012-07-02T00:00:00Z', '2012-07-03T00:00:00Z',\n",
       "       '2012-07-04T00:00:00Z', '2012-07-05T00:00:00Z',\n",
       "       '2012-07-06T00:00:00Z', '2012-07-07T00:00:00Z',\n",
       "       '2012-07-08T00:00:00Z', '2012-07-09T00:00:00Z',\n",
       "       '2012-07-10T00:00:00Z', '2012-07-11T00:00:00Z'], dtype='<U20')"
      ]
     },
     "execution_count": 7,
     "metadata": {},
     "output_type": "execute_result"
    }
   ],
   "source": [
    "sic.time[0:10].data"
   ]
  },
  {
   "cell_type": "code",
   "execution_count": 9,
   "metadata": {},
   "outputs": [
    {
     "data": {
      "text/plain": [
       "<GridType with array 'z' and maps 'time', 'y', 'x'>"
      ]
     },
     "execution_count": 9,
     "metadata": {},
     "output_type": "execute_result"
    }
   ],
   "source": [
    "sic.z[0]"
   ]
  },
  {
   "cell_type": "markdown",
   "metadata": {},
   "source": [
    "## Sea Ice Thickness products aggregation example"
   ]
  },
  {
   "cell_type": "markdown",
   "metadata": {},
   "source": [
    "### Single product"
   ]
  },
  {
   "cell_type": "markdown",
   "metadata": {},
   "source": [
    "#### OpenDAP"
   ]
  },
  {
   "cell_type": "code",
   "execution_count": 10,
   "metadata": {},
   "outputs": [
    {
     "name": "stdout",
     "output_type": "stream",
     "text": [
      "Dataset {\n",
      "    Float32 smos_thickness[X = 896][Y = 608];\n",
      "    Float32 smos_thickness_unc[X = 896][Y = 608];\n",
      "    Float32 smap_thickness[X = 896][Y = 608];\n",
      "    Float32 smap_thickness_unc[X = 896][Y = 608];\n",
      "    Float32 combined_thickness[X = 896][Y = 608];\n",
      "    Float32 combined_thickness_unc[X = 896][Y = 608];\n",
      "    Int16 flags[X = 896][Y = 608];\n",
      "} 20180419_north_mix_sit_v100.nc;\n",
      "\n"
     ]
    }
   ],
   "source": [
    "url = 'https://hyrax.terradue.com/opendap/data/smos_smap/netCDF/north/2018/20180419_north_mix_sit_v100.nc'\n",
    "r = requests.get(url + '.dds')\n",
    "print(r.text)"
   ]
  },
  {
   "cell_type": "markdown",
   "metadata": {},
   "source": [
    "### Time series"
   ]
  },
  {
   "cell_type": "markdown",
   "metadata": {},
   "source": [
    "#### NcML\n",
    "\n",
    "```\n",
    "<?xml version=\"1.0\" encoding=\"UTF-8\"?>\n",
    "<!-- This test and data is taken from the aggregation tutorial page at\n",
    "http://www.unidata.ucar.edu/software/thredds/current/netcdf-java/ncml/Aggregation.html -->\n",
    "<netcdf title=\"joinNew aggregation using the scan element and dateFormatMark\">\n",
    "\n",
    "  <aggregation type=\"joinNew\" dimName=\"time\">\n",
    "    <variableAgg name=\"smos_thickness\"/>\n",
    "    <variableAgg name=\"smos_thickness_unc\"/>\n",
    "    <variableAgg name=\"smap_thickness\"/>\n",
    "    <variableAgg name=\"smap_thickness_unc\"/>\n",
    "    <variableAgg name=\"combined_thickness\"/>\n",
    "    <variableAgg name=\"combined_thickness_unc\"/>\n",
    "    <scan location=\"data/smos_smap/netCDF\"\n",
    "          suffix=\".nc\"\n",
    "          subdirs=\"true\"\n",
    "          regExp=\"^.*/.*_mix_sit_v100[^/]*\"\n",
    "          dateFormatMark=\"#yyyyMMdd_\"\n",
    "          />\n",
    "  </aggregation>\n",
    "\n",
    "<!-- example: 20151231_north_mix_sit_v100.nc-->\n",
    "\n",
    "</netcdf>\n",
    "```"
   ]
  },
  {
   "cell_type": "markdown",
   "metadata": {},
   "source": [
    "#### OpenDAP"
   ]
  },
  {
   "cell_type": "code",
   "execution_count": 11,
   "metadata": {},
   "outputs": [
    {
     "name": "stdout",
     "output_type": "stream",
     "text": [
      "Dataset {\n",
      "    Int16 flags[X = 896][Y = 608];\n",
      "    Float32 smos_thickness[time = 504][X = 896][Y = 608];\n",
      "    Float32 smos_thickness_unc[time = 504][X = 896][Y = 608];\n",
      "    String time[time = 504];\n",
      "    Float32 smap_thickness[time = 504][X = 896][Y = 608];\n",
      "    Float32 smap_thickness_unc[time = 504][X = 896][Y = 608];\n",
      "    Float32 combined_thickness[time = 504][X = 896][Y = 608];\n",
      "    Float32 combined_thickness_unc[time = 504][X = 896][Y = 608];\n",
      "} smos_smap.ncml;\n",
      "\n"
     ]
    }
   ],
   "source": [
    "url = 'https://hyrax.terradue.com/opendap/data/ts/smos_smap.ncml'\n",
    "r = requests.get(url + '.dds')\n",
    "print(r.text)"
   ]
  },
  {
   "cell_type": "code",
   "execution_count": 12,
   "metadata": {},
   "outputs": [
    {
     "name": "stdout",
     "output_type": "stream",
     "text": [
      "flags\n",
      "smos_thickness\n",
      "smos_thickness_unc\n",
      "smap_thickness\n",
      "smap_thickness_unc\n",
      "time\n",
      "combined_thickness\n",
      "combined_thickness_unc\n"
     ]
    }
   ],
   "source": [
    "sit = open_url(url)\n",
    "keys = list(sit.keys())\n",
    "for key in keys:\n",
    "    print(key)"
   ]
  },
  {
   "cell_type": "code",
   "execution_count": 13,
   "metadata": {},
   "outputs": [
    {
     "data": {
      "text/plain": [
       "(504, 896, 608)"
      ]
     },
     "execution_count": 13,
     "metadata": {},
     "output_type": "execute_result"
    }
   ],
   "source": [
    "sit.smos_thickness.shape"
   ]
  },
  {
   "cell_type": "code",
   "execution_count": 15,
   "metadata": {},
   "outputs": [
    {
     "data": {
      "text/plain": [
       "array(['2015-03-31T00:00:00Z', '2015-04-01T00:00:00Z',\n",
       "       '2015-04-02T00:00:00Z', '2015-04-03T00:00:00Z',\n",
       "       '2015-04-04T00:00:00Z', '2015-04-05T00:00:00Z',\n",
       "       '2015-04-06T00:00:00Z', '2015-04-07T00:00:00Z',\n",
       "       '2015-04-08T00:00:00Z', '2015-04-09T00:00:00Z'], dtype='<U20')"
      ]
     },
     "execution_count": 15,
     "metadata": {},
     "output_type": "execute_result"
    }
   ],
   "source": [
    "sit.time[0:10].data"
   ]
  },
  {
   "cell_type": "code",
   "execution_count": 16,
   "metadata": {},
   "outputs": [
    {
     "data": {
      "text/plain": [
       "<BaseType with data array([[[-9.99000000e+02, -9.99000000e+02, -9.99000000e+02, ...,\n",
       "          1.12241678e-01,  8.07810202e-02,  8.07810202e-02],\n",
       "        [-9.99000000e+02, -9.99000000e+02, -9.99000000e+02, ...,\n",
       "          1.16029546e-01,  7.45694861e-02,  7.45694861e-02],\n",
       "        [-9.99000000e+02, -9.99000000e+02, -9.99000000e+02, ...,\n",
       "          1.16029546e-01,  1.17853865e-01,  4.73127738e-02],\n",
       "        ...,\n",
       "        [ 2.16191605e-01,  2.62407094e-01,  2.62407094e-01, ...,\n",
       "         -9.99000000e+02, -9.99000000e+02, -9.99000000e+02],\n",
       "        [ 2.16191605e-01,  1.71574935e-01,  1.71574935e-01, ...,\n",
       "         -9.99000000e+02, -9.99000000e+02, -9.99000000e+02],\n",
       "        [-9.99000000e+02,  1.71574935e-01,  1.71574935e-01, ...,\n",
       "         -9.99000000e+02, -9.99000000e+02, -9.99000000e+02]]],\n",
       "      dtype=float32)>"
      ]
     },
     "execution_count": 16,
     "metadata": {},
     "output_type": "execute_result"
    }
   ],
   "source": [
    "sit.smos_thickness[0]"
   ]
  }
 ],
 "metadata": {
  "kernelspec": {
   "display_name": "Python [conda env:pydap]",
   "language": "python",
   "name": "conda-env-pydap-py"
  },
  "language_info": {
   "codemirror_mode": {
    "name": "ipython",
    "version": 3
   },
   "file_extension": ".py",
   "mimetype": "text/x-python",
   "name": "python",
   "nbconvert_exporter": "python",
   "pygments_lexer": "ipython3",
   "version": "3.7.3"
  }
 },
 "nbformat": 4,
 "nbformat_minor": 2
}
