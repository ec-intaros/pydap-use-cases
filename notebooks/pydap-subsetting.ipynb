{
 "cells": [
  {
   "cell_type": "markdown",
   "metadata": {},
   "source": [
    "# Field and index subsetting using Pydap"
   ]
  },
  {
   "cell_type": "markdown",
   "metadata": {},
   "source": [
    "*Subsetting* is the act of choosing parts of a dataset based on the type of one or more of its variables. There are several types of subsetting operations as follows.\n",
    "\n",
    "## Field subsetting\n",
    "Choosing specific variables (fields) from the dataset. A dataset in DAP is made up of a number of variables and those may be Structures or Sequences that contain fields."
   ]
  },
  {
   "cell_type": "code",
   "execution_count": 1,
   "metadata": {},
   "outputs": [],
   "source": [
    "import sys\n",
    "from pydap.client import open_url\n",
    "\n",
    "# Open remote file\n",
    "dataset_url = 'https://iaos.opendap.terradue.com/thredds/dodsC/SMOS_SMAP/netCDF/north/2018/20181007_north_mix_sit_v100.nc'\n",
    "dataset = open_url(dataset_url)"
   ]
  },
  {
   "cell_type": "code",
   "execution_count": 2,
   "metadata": {},
   "outputs": [
    {
     "data": {
      "text/plain": [
       "['smos_thickness',\n",
       " 'smos_thickness_unc',\n",
       " 'smap_thickness',\n",
       " 'smap_thickness_unc',\n",
       " 'combined_thickness',\n",
       " 'combined_thickness_unc',\n",
       " 'flags']"
      ]
     },
     "execution_count": 2,
     "metadata": {},
     "output_type": "execute_result"
    }
   ],
   "source": [
    "list(dataset.keys())"
   ]
  },
  {
   "cell_type": "code",
   "execution_count": 3,
   "metadata": {},
   "outputs": [
    {
     "data": {
      "text/plain": [
       "<BaseType with data BaseProxy('https://iaos.opendap.terradue.com/thredds/dodsC/SMOS_SMAP/netCDF/north/2018/20181007_north_mix_sit_v100.nc', 'smos_thickness', dtype('>f4'), (896, 608), (slice(None, None, None), slice(None, None, None)))>"
      ]
     },
     "execution_count": 3,
     "metadata": {},
     "output_type": "execute_result"
    }
   ],
   "source": [
    "dataset.smos_thickness"
   ]
  },
  {
   "cell_type": "code",
   "execution_count": 4,
   "metadata": {},
   "outputs": [
    {
     "data": {
      "text/plain": [
       "<BaseType with data BaseProxy('https://iaos.opendap.terradue.com/thredds/dodsC/SMOS_SMAP/netCDF/north/2018/20181007_north_mix_sit_v100.nc', 'smos_thickness', dtype('>f4'), (896, 608), (slice(None, None, None), slice(None, None, None)))>"
      ]
     },
     "execution_count": 4,
     "metadata": {},
     "output_type": "execute_result"
    }
   ],
   "source": [
    "# An alternative syntax\n",
    "dataset['smos_thickness']"
   ]
  },
  {
   "cell_type": "markdown",
   "metadata": {},
   "source": [
    "It is also possible to obtain the raw metadata for the dataset, using a simple http request, appending the suffix `.dds` (DAP2):"
   ]
  },
  {
   "cell_type": "code",
   "execution_count": 5,
   "metadata": {},
   "outputs": [
    {
     "name": "stdout",
     "output_type": "stream",
     "text": [
      "('Dataset {\\n'\n",
      " '    Float32 smos_thickness[X = 896][Y = 608];\\n'\n",
      " '    Float32 smos_thickness_unc[X = 896][Y = 608];\\n'\n",
      " '    Float32 smap_thickness[X = 896][Y = 608];\\n'\n",
      " '    Float32 smap_thickness_unc[X = 896][Y = 608];\\n'\n",
      " '    Float32 combined_thickness[X = 896][Y = 608];\\n'\n",
      " '    Float32 combined_thickness_unc[X = 896][Y = 608];\\n'\n",
      " '    Byte flags[X = 896][Y = 608];\\n'\n",
      " '} SMOS_SMAP/netCDF/north/2018/20181007_north_mix_sit_v100.nc;\\n')\n"
     ]
    }
   ],
   "source": [
    "import requests\n",
    "import pprint\n",
    "\n",
    "r = requests.get(dataset_url + '.dds')\n",
    "pprint.pprint(r.text)"
   ]
  },
  {
   "cell_type": "code",
   "execution_count": 6,
   "metadata": {},
   "outputs": [
    {
     "name": "stdout",
     "output_type": "stream",
     "text": [
      "('Dataset {\\n'\n",
      " '    Float32 smos_thickness[X = 896][Y = 608];\\n'\n",
      " '} SMOS_SMAP/netCDF/north/2018/20181007_north_mix_sit_v100.nc;\\n')\n"
     ]
    }
   ],
   "source": [
    "r = requests.get(dataset_url + '.dds' + '?smos_thickness')\n",
    "pprint.pprint(r.text)"
   ]
  },
  {
   "cell_type": "markdown",
   "metadata": {},
   "source": [
    "### Notes"
   ]
  },
  {
   "cell_type": "markdown",
   "metadata": {},
   "source": [
    "In the example above, we just asked for metadata but we did not download any data from the server. This is accomplished by leverging the index subsetting. "
   ]
  },
  {
   "cell_type": "markdown",
   "metadata": {},
   "source": [
    "## Index subsetting\n",
    "Choosing parts of an array based on the indexes of that array's dimensions. This operation always returns an array of the same rank as the original, although the size of the return array will (likely) be smaller. Index subsetting uses the bracket syntax described subsequently."
   ]
  },
  {
   "cell_type": "markdown",
   "metadata": {},
   "source": [
    "Subsetting fixed-size arrays in their index space is accomplished using square brackets. For an array with N dimensions, N sets of brackets are used, even if the array is only subset on some of the dimensions. The names of array variables are fully qualified names (FQNs) so it's possible to name arrays in structures and/or Groups. Array index values are zero-based as with a number of programming languages such as C and Java. Every array has a known starting index value of zero. Within the square brackets, several subexpressions are allowed:\n",
    "\n",
    "* **[ ]** \n",
    "return all of elements elements for a particular dimension.\n",
    "* **[ n ]** \n",
    "return only the value at a single index, where 0 <= n < N for a dimension of size N. This slicing operator does not reduce the dimensionality of an array, but does return a dimension size of one for the dimension to which this is applied.\n",
    "* **[ start : step : last ]** \n",
    "return every value whose index is in the range start <= index <= last and where (index - start) % step == 0. This is the complete version of the syntax.\n",
    "* **[ start : last ]**\n",
    "return the values whose index is in the range start <= index <= last.\n",
    "* **[ start : ]** \n",
    "return the values whose index is in the range start <= index <= the dimension size - 1.\n",
    "* **[ start : step : ]**\n",
    "return every value whose index is in the range start <= index <= dimension size - 1 and where (index - start) % step == 0.\n",
    "Subsetting can be applied to any array. It can also be applied to a scalar, but in this case, the only legal forms are [0] or []."
   ]
  },
  {
   "cell_type": "code",
   "execution_count": 7,
   "metadata": {},
   "outputs": [],
   "source": [
    "import sys\n",
    "from pydap.client import open_url\n",
    "\n",
    "# Open remote file\n",
    "dataset_url = 'https://iaos.opendap.terradue.com/thredds/dodsC/SMOS_SMAP/netCDF/north/2018/20181007_north_mix_sit_v100.nc'\n",
    "dataset = open_url(dataset_url)\n",
    "\n",
    "# Select just a variable\n",
    "smos_thickness = dataset['smos_thickness']"
   ]
  },
  {
   "cell_type": "code",
   "execution_count": 8,
   "metadata": {},
   "outputs": [
    {
     "data": {
      "text/plain": [
       "(896, 608)"
      ]
     },
     "execution_count": 8,
     "metadata": {},
     "output_type": "execute_result"
    }
   ],
   "source": [
    "smos_thickness.shape"
   ]
  },
  {
   "cell_type": "code",
   "execution_count": 9,
   "metadata": {},
   "outputs": [
    {
     "data": {
      "text/plain": [
       "<BaseType with data array([[-9.9900000e+02, -9.9900000e+02, -9.9900000e+02, ...,\n",
       "         3.0115128e-01,  3.0980819e-01,  3.0980819e-01],\n",
       "       [-9.9900000e+02, -9.9900000e+02, -9.9900000e+02, ...,\n",
       "         1.0556738e-01,  1.4467032e-01,  1.4467032e-01],\n",
       "       [-9.9900000e+02, -9.9900000e+02, -9.9900000e+02, ...,\n",
       "         1.0556738e-01,  3.7567174e-01,  3.0476522e-01],\n",
       "       ...,\n",
       "       [-9.9900000e+02, -9.9900000e+02, -9.9900000e+02, ...,\n",
       "        -9.9900000e+02, -9.9900000e+02, -9.9900000e+02],\n",
       "       [-9.9900000e+02, -9.9900000e+02, -9.9900000e+02, ...,\n",
       "        -9.9900000e+02, -9.9900000e+02, -9.9900000e+02],\n",
       "       [-9.9900000e+02, -9.9900000e+02, -9.9900000e+02, ...,\n",
       "        -9.9900000e+02, -9.9900000e+02, -9.9900000e+02]], dtype=float32)>"
      ]
     },
     "execution_count": 9,
     "metadata": {},
     "output_type": "execute_result"
    }
   ],
   "source": [
    "# This downloads all the variable's values\n",
    "smos_thickness[:]"
   ]
  },
  {
   "cell_type": "code",
   "execution_count": 10,
   "metadata": {},
   "outputs": [
    {
     "data": {
      "text/plain": [
       "<BaseType with data array([[0.18291631]], dtype=float32)>"
      ]
     },
     "execution_count": 10,
     "metadata": {},
     "output_type": "execute_result"
    }
   ],
   "source": [
    "# We download only the 149th element of the 1st dimension\n",
    "smos_thickness[0,148]"
   ]
  },
  {
   "cell_type": "code",
   "execution_count": 11,
   "metadata": {},
   "outputs": [
    {
     "data": {
      "text/plain": [
       "<BaseType with data array([[-9.9900000e+02, -9.9900000e+02, -9.9900000e+02, -9.9900000e+02,\n",
       "        -9.9900000e+02, -9.9900000e+02, -9.9900000e+02, -9.9900000e+02,\n",
       "         1.8291631e-01,  1.6078155e-01]], dtype=float32)>"
      ]
     },
     "execution_count": 11,
     "metadata": {},
     "output_type": "execute_result"
    }
   ],
   "source": [
    "# We download only a subset of the 1st dimension\n",
    "smos_thickness[0,140:150]"
   ]
  },
  {
   "cell_type": "markdown",
   "metadata": {},
   "source": [
    "### Notes"
   ]
  },
  {
   "cell_type": "code",
   "execution_count": 12,
   "metadata": {},
   "outputs": [
    {
     "data": {
      "text/plain": [
       "pydap.model.BaseType"
      ]
     },
     "execution_count": 12,
     "metadata": {},
     "output_type": "execute_result"
    }
   ],
   "source": [
    "type(smos_thickness[:])"
   ]
  },
  {
   "cell_type": "markdown",
   "metadata": {},
   "source": [
    "You can think of a *BaseType* object as a thin layer around Numpy arrays, until you realize that the data attribute can be any object implementing the array interface! This is how the DAP client works – instead of assigning an array with data directly to the attribute, it's assigned a special object which behaves like an array and acts as a proxy to a remote dataset. In the example above it was a Numpy array:"
   ]
  },
  {
   "cell_type": "code",
   "execution_count": 13,
   "metadata": {},
   "outputs": [
    {
     "data": {
      "text/plain": [
       "numpy.ndarray"
      ]
     },
     "execution_count": 13,
     "metadata": {},
     "output_type": "execute_result"
    }
   ],
   "source": [
    "array = smos_thickness[:].data\n",
    "type(array)"
   ]
  },
  {
   "cell_type": "code",
   "execution_count": 14,
   "metadata": {},
   "outputs": [
    {
     "data": {
      "text/plain": [
       "(896, 608)"
      ]
     },
     "execution_count": 14,
     "metadata": {},
     "output_type": "execute_result"
    }
   ],
   "source": [
    "array.shape"
   ]
  },
  {
   "cell_type": "markdown",
   "metadata": {},
   "source": [
    "## References"
   ]
  },
  {
   "cell_type": "markdown",
   "metadata": {},
   "source": [
    "* https://docs.opendap.org/index.php/DAP2:_Constraint_Expressions\n",
    "* https://docs.opendap.org/index.php/DAP4:_Specification_Volume_1#Constraints\n",
    "* https://pydap.readthedocs.io/en/latest/index.html"
   ]
  },
  {
   "cell_type": "code",
   "execution_count": null,
   "metadata": {},
   "outputs": [],
   "source": []
  }
 ],
 "metadata": {
  "kernelspec": {
   "display_name": "Python [default]",
   "language": "python",
   "name": "python3"
  },
  "language_info": {
   "codemirror_mode": {
    "name": "ipython",
    "version": 3
   },
   "file_extension": ".py",
   "mimetype": "text/x-python",
   "name": "python",
   "nbconvert_exporter": "python",
   "pygments_lexer": "ipython3",
   "version": "3.5.6"
  }
 },
 "nbformat": 4,
 "nbformat_minor": 2
}
