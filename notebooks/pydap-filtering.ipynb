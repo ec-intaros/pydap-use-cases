{
 "cells": [
  {
   "cell_type": "markdown",
   "metadata": {},
   "source": [
    "# Filtering a Sequence Data Type using Pydap"
   ]
  },
  {
   "cell_type": "markdown",
   "metadata": {},
   "source": [
    "While *subsetting* provides ways to choose data based on the dataset structure and the types of the variables, *filters* provide a way to choose data based on their values. The values to be returned are denoted using one or more simple predicates. The general syntax for a filter expression is to follow a subset (projection) expression with a pipe (|) and one or more filter predicates. Multiple predicates are separated by commas and the value of complete predicate is the logical AND of the comma-separated subexpressions.\n",
    "\n",
    "**Filter expressions can only be applied to Sequence variables (or arrays of them).**\n",
    "\n",
    "A **Sequence can be thought of as a relational data table**, with each column representing a different data variable, and each row representing a different measurement of a set of values (also called an \"instance\"). For example, an ocean temperature profile can be stored as a Sequence with two columns: pressure and temperature. Each measurement is a pressure and a temperature, and is contained in one row. A weather station's data can be stored as a Sequence with time in one column, and each weather variable occupying another column.\n",
    "\n",
    "You can find a good example of a Sequence at:\n",
    "\n",
    "* http://test.opendap.org/dap/data/ff/gsodock.dat\n",
    "* http://test.opendap.org/dap/data/ff/gsodock.dat.ascii (ASCII format) \n",
    "\n",
    "This is a 24-hour record of measurements at a weather station on a dock in Rhode Island. Each record consists of a dozen different variables including air temperature, wind speed, and direction, as well as depth, temperature and salinity of the water. The data is arranged into 144 measurements of each of the twelve variables."
   ]
  },
  {
   "cell_type": "code",
   "execution_count": 12,
   "metadata": {},
   "outputs": [],
   "source": [
    "from pydap.client import open_url\n",
    "dataset = open_url('http://test.opendap.org/dap/data/ff/gsodock.dat')"
   ]
  },
  {
   "cell_type": "code",
   "execution_count": 13,
   "metadata": {},
   "outputs": [
    {
     "name": "stdout",
     "output_type": "stream",
     "text": [
      "<class 'pydap.model.DatasetType'>\n"
     ]
    }
   ],
   "source": [
    "print(type(dataset))"
   ]
  },
  {
   "cell_type": "code",
   "execution_count": 14,
   "metadata": {},
   "outputs": [
    {
     "name": "stdout",
     "output_type": "stream",
     "text": [
      "URI_GSO-Dock\n"
     ]
    }
   ],
   "source": [
    "keys = list(dataset.keys())\n",
    "for key in keys:\n",
    "    print(key)"
   ]
  },
  {
   "cell_type": "code",
   "execution_count": 51,
   "metadata": {},
   "outputs": [],
   "source": [
    "uri_gso_dock = dataset['URI_GSO-Dock']"
   ]
  },
  {
   "cell_type": "markdown",
   "metadata": {},
   "source": [
    "Type of *URI_GSO-Dock* is Sequence:"
   ]
  },
  {
   "cell_type": "code",
   "execution_count": 50,
   "metadata": {},
   "outputs": [
    {
     "name": "stdout",
     "output_type": "stream",
     "text": [
      "<class 'pydap.model.SequenceType'>\n"
     ]
    }
   ],
   "source": [
    "print(type(uri_gso_dock))"
   ]
  },
  {
   "cell_type": "markdown",
   "metadata": {},
   "source": [
    "And it has 12 variables:"
   ]
  },
  {
   "cell_type": "code",
   "execution_count": 52,
   "metadata": {},
   "outputs": [
    {
     "name": "stdout",
     "output_type": "stream",
     "text": [
      "Time\n",
      "Depth\n",
      "Sea_Temp\n",
      "Salinity\n",
      "DO_percent\n",
      "pH\n",
      "Turbidity\n",
      "Air_Temp\n",
      "Wind_Speed\n",
      "Wind_Direction\n",
      "Barometric_Pres\n",
      "Solar_Radiation\n"
     ]
    }
   ],
   "source": [
    "keys = list(uri_gso_dock.keys())\n",
    "for key in keys:\n",
    "    print(key)"
   ]
  },
  {
   "cell_type": "markdown",
   "metadata": {},
   "source": [
    "We now filter, applying a constraint expression:"
   ]
  },
  {
   "cell_type": "code",
   "execution_count": 49,
   "metadata": {},
   "outputs": [
    {
     "name": "stdout",
     "output_type": "stream",
     "text": [
      "29.12\n",
      "29.12\n",
      "29.12\n",
      "29.12\n",
      "29.12\n",
      "29.12\n",
      "29.13\n",
      "29.13\n",
      "29.16\n",
      "29.17\n",
      "29.16\n",
      "29.2\n",
      "29.27\n",
      "29.34\n",
      "29.47\n",
      "29.77\n",
      "29.72\n",
      "29.79\n",
      "29.82\n",
      "29.86\n",
      "29.6\n",
      "29.21\n"
     ]
    }
   ],
   "source": [
    "filtered_data = uri_gso_dock.Salinity[(uri_gso_dock.Depth > 2) & (uri_gso_dock.Time>35234.5)]\n",
    "\n",
    "for i, salinity in enumerate(filtered_data.iterdata()):\n",
    "    print(salinity)"
   ]
  },
  {
   "cell_type": "markdown",
   "metadata": {},
   "source": [
    "## References\n",
    "* https://docs.opendap.org/index.php/QuickStart#Sequence_Data\n",
    "* https://docs.opendap.org/index.php/DAP4:_Specification_Volume_1#Filters"
   ]
  }
 ],
 "metadata": {
  "kernelspec": {
   "display_name": "Python [default]",
   "language": "python",
   "name": "python3"
  },
  "language_info": {
   "codemirror_mode": {
    "name": "ipython",
    "version": 3
   },
   "file_extension": ".py",
   "mimetype": "text/x-python",
   "name": "python",
   "nbconvert_exporter": "python",
   "pygments_lexer": "ipython3",
   "version": "3.5.6"
  }
 },
 "nbformat": 4,
 "nbformat_minor": 2
}
